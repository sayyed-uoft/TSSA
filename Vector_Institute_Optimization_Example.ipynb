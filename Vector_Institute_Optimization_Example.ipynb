{
  "nbformat": 4,
  "nbformat_minor": 0,
  "metadata": {
    "colab": {
      "name": "Vector Institute - Optimization Example.ipynb",
      "provenance": [],
      "collapsed_sections": [],
      "authorship_tag": "ABX9TyMNV+KeSuHRs1jPpun7A2lS",
      "include_colab_link": true
    },
    "kernelspec": {
      "name": "python3",
      "display_name": "Python 3"
    },
    "language_info": {
      "name": "python"
    }
  },
  "cells": [
    {
      "cell_type": "markdown",
      "metadata": {
        "id": "view-in-github",
        "colab_type": "text"
      },
      "source": [
        "<a href=\"https://colab.research.google.com/github/sayyed-uoft/TSSA/blob/main/Vector_Institute_Optimization_Example.ipynb\" target=\"_parent\"><img src=\"https://colab.research.google.com/assets/colab-badge.svg\" alt=\"Open In Colab\"/></a>"
      ]
    },
    {
      "cell_type": "markdown",
      "metadata": {
        "id": "zRBWzkldF0sz"
      },
      "source": [
        "# Vector Institute - TSSA Intro to AI \n",
        "\n",
        "### Thank you for joining Day 2 of the Vector Institute, 'Intro to AI' workshop series.\n",
        "\n",
        "If you have any questions or if you would like to learn more about this program, contact: learn@vectorinstitute.ai"
      ]
    },
    {
      "cell_type": "markdown",
      "metadata": {
        "id": "igysBFyqc7q-"
      },
      "source": [
        "# Case Study 3: Optimazation using Clustering\n",
        "\n",
        "\n",
        "In this notebook, we will use k-Maens and Size Constrained k-Means to optiomize agent-client assignment. \n",
        "\n",
        "\n",
        "## Problem\n",
        "We have “n” clients and “m” agents (n >> m). We want to assign the clients to the agents, so each agent travels as less as possible to visit their own clients. It means the clients assigned to an agent should be very close to each other.\n",
        "\n",
        "\n",
        "## Solution\n",
        "A simple solution is to cluster the “m” clients to “n” clusters based on their closeness. We can use K-means clustering (“K = m” in this case).\n",
        "\n",
        "## Importing the required packages\n"
      ]
    },
    {
      "cell_type": "code",
      "metadata": {
        "id": "TNqVGlAdFifb"
      },
      "source": [
        "# Import python packages\n",
        "import numpy as np\n",
        "import sklearn\n",
        "import matplotlib as mpl\n",
        "import matplotlib.pyplot as plt\n",
        "%matplotlib inline\n",
        "\n",
        "# Make this notebook's output stable across runs\n",
        "np.random.seed(42)\n",
        "\n",
        "# To plot pretty figures\n",
        "mpl.rc('axes', labelsize=14)\n",
        "mpl.rc('xtick', labelsize=12)\n",
        "mpl.rc('ytick', labelsize=12)"
      ],
      "execution_count": null,
      "outputs": []
    },
    {
      "cell_type": "markdown",
      "metadata": {
        "id": "bg8t12epd_rJ"
      },
      "source": [
        "## Simulating the Problem (Synthetic Data)\n",
        "\n",
        "n = 10,000\n",
        "\n",
        "m = k = 5"
      ]
    },
    {
      "cell_type": "code",
      "metadata": {
        "id": "vyRqV7VzGeVj"
      },
      "source": [
        "# A package to generate data blobs\n",
        "from sklearn.datasets import make_blobs\n",
        "\n",
        "# Choose some random centers for the clusters\n",
        "blob_centers = np.array(\n",
        "    [[ 0.2,  2.3],\n",
        "     [-1.5 ,  2.3],\n",
        "     [-2.8,  1.8],\n",
        "     [-2.8,  2.8],\n",
        "     [-2.8,  1.3]])\n",
        "\n",
        "# Set how spread each cluster is\n",
        "blob_std = np.array([0.4, 0.3, 0.1, 0.1, 0.1])\n",
        "\n",
        "# Generate data\n",
        "X, y = make_blobs(n_samples=2000, centers=blob_centers,\n",
        "                  cluster_std=blob_std, random_state=0)"
      ],
      "execution_count": null,
      "outputs": []
    },
    {
      "cell_type": "markdown",
      "metadata": {
        "id": "C8_TUDaSesOA"
      },
      "source": [
        "# Plot data"
      ]
    },
    {
      "cell_type": "code",
      "metadata": {
        "id": "oNt5gUJjHRMK"
      },
      "source": [
        "# A function to plot clusters\n",
        "def plot_clusters(X, y=None):\n",
        "    plt.scatter(X[:, 0], X[:, 1], c=y, s=1)\n",
        "    plt.xlabel(\"$x_1$\", fontsize=14)\n",
        "    plt.ylabel(\"$x_2$\", fontsize=14, rotation=0)\n",
        "\n",
        "# Set plot size\n",
        "plt.figure(figsize=(10, 6))\n",
        "\n",
        "# Plot the clusters\n",
        "plot_clusters(X)\n",
        "plt.show()"
      ],
      "execution_count": null,
      "outputs": []
    },
    {
      "cell_type": "markdown",
      "metadata": {
        "id": "Tv2TZrJue_1b"
      },
      "source": [
        "# Clustering using regular K-Means"
      ]
    },
    {
      "cell_type": "code",
      "metadata": {
        "id": "fDoTu1SpHkJa"
      },
      "source": [
        "# Import K-Mean clustering tool\n",
        "from sklearn.cluster import KMeans\n",
        "\n",
        "# Set the number of clusters\n",
        "k = 5\n",
        "\n",
        "# Predict the clusters\n",
        "kmeans = KMeans(n_clusters=k, random_state=0)\n",
        "y_pred = kmeans.fit_predict(X)"
      ],
      "execution_count": null,
      "outputs": []
    },
    {
      "cell_type": "markdown",
      "metadata": {
        "id": "0t00Z573fcBW"
      },
      "source": [
        "### View the predictions"
      ]
    },
    {
      "cell_type": "code",
      "metadata": {
        "id": "POekF3GKHwDa"
      },
      "source": [
        "y_pred"
      ],
      "execution_count": null,
      "outputs": []
    },
    {
      "cell_type": "markdown",
      "metadata": {
        "id": "72VezOfsfhxW"
      },
      "source": [
        "### View the cluster centers"
      ]
    },
    {
      "cell_type": "code",
      "metadata": {
        "id": "taTaTrHsH1TH"
      },
      "source": [
        "kmeans.cluster_centers_"
      ],
      "execution_count": null,
      "outputs": []
    },
    {
      "cell_type": "markdown",
      "metadata": {
        "id": "eVmlAJbjfoHl"
      },
      "source": [
        "## Plot the clusters and their boundaries"
      ]
    },
    {
      "cell_type": "code",
      "metadata": {
        "id": "SSs3vcQzH170"
      },
      "source": [
        "# A function to plot all points\n",
        "def plot_data(X):\n",
        "    plt.plot(X[:, 0], X[:, 1], 'k.', markersize=2)\n",
        "\n",
        "# A function to show the center of the clusters\n",
        "def plot_centroids(centroids, weights=None, circle_color='w', cross_color='k'):\n",
        "    if weights is not None:\n",
        "        centroids = centroids[weights > weights.max() / 10]\n",
        "    plt.scatter(centroids[:, 0], centroids[:, 1],\n",
        "                marker='o', s=35, linewidths=8,\n",
        "                color=circle_color, zorder=10, alpha=0.9)\n",
        "    plt.scatter(centroids[:, 0], centroids[:, 1],\n",
        "                marker='x', s=2, linewidths=12,\n",
        "                color=cross_color, zorder=11, alpha=1)\n",
        "\n",
        "# A function to plot decision boundaries\n",
        "def plot_decision_boundaries(clusterer, X, resolution=1000, show_centroids=True,\n",
        "                             show_xlabels=True, show_ylabels=True):\n",
        "    mins = X.min(axis=0) - 0.1\n",
        "    maxs = X.max(axis=0) + 0.1\n",
        "    xx, yy = np.meshgrid(np.linspace(mins[0], maxs[0], resolution),\n",
        "                         np.linspace(mins[1], maxs[1], resolution))\n",
        "    Z = clusterer.predict(np.c_[xx.ravel(), yy.ravel()])\n",
        "    Z = Z.reshape(xx.shape)\n",
        "\n",
        "    plt.contourf(Z, extent=(mins[0], maxs[0], mins[1], maxs[1]),\n",
        "                cmap=\"Pastel2\")\n",
        "    plt.contour(Z, extent=(mins[0], maxs[0], mins[1], maxs[1]),\n",
        "                linewidths=1, colors='k')\n",
        "    plot_data(X)\n",
        "    if show_centroids:\n",
        "        plot_centroids(clusterer.cluster_centers_)\n",
        "\n",
        "    if show_xlabels:\n",
        "        plt.xlabel(\"$x_1$\", fontsize=14)\n",
        "    else:\n",
        "        plt.tick_params(labelbottom=False)\n",
        "    if show_ylabels:\n",
        "        plt.ylabel(\"$x_2$\", fontsize=14, rotation=0)\n",
        "    else:\n",
        "        plt.tick_params(labelleft=False)"
      ],
      "execution_count": null,
      "outputs": []
    },
    {
      "cell_type": "code",
      "metadata": {
        "id": "OlUDZMziIHDK"
      },
      "source": [
        "# plot cluster centers and their boundaries\n",
        "plt.figure(figsize=(10, 6))\n",
        "plot_decision_boundaries(kmeans, X)\n",
        "plt.show()"
      ],
      "execution_count": null,
      "outputs": []
    },
    {
      "cell_type": "markdown",
      "metadata": {
        "id": "-NLO1E6ugTNi"
      },
      "source": [
        "## Unbalanced Clusters\n",
        "With k-Means algorithm, we can get unequal clusters. That can be an issue for agent-client assignment. Let's generate some unbalanced clusters:\n"
      ]
    },
    {
      "cell_type": "code",
      "metadata": {
        "id": "6_ZGXIPyJQmN"
      },
      "source": [
        "# The same cluster centers\n",
        "blob_centers = np.array(\n",
        "    [[ 0.2,  2.3],\n",
        "     [-1.5 ,  2.3],\n",
        "     [-2.8,  1.8],\n",
        "     [-2.8,  2.8],\n",
        "     [-2.8,  1.3]])\n",
        "\n",
        "# The second blob is set to be more spread\n",
        "blob_std = np.array([0.4, 0.5, 0.1, 0.1, 0.1])\n",
        "\n",
        "# The seciond cluster has a lot more clients\n",
        "X, y = make_blobs(n_samples=[1500, 4000, 1500, 1500, 1500], \n",
        "                  centers=blob_centers, cluster_std=blob_std, random_state=0)"
      ],
      "execution_count": null,
      "outputs": []
    },
    {
      "cell_type": "markdown",
      "metadata": {
        "id": "-9KA8l3ehCao"
      },
      "source": [
        "### Plot the new clusters"
      ]
    },
    {
      "cell_type": "code",
      "metadata": {
        "id": "Wg2JXLfOJ_2B"
      },
      "source": [
        "# plot the clusters\n",
        "plt.figure(figsize=(10, 6))\n",
        "plot_clusters(X)\n",
        "plt.show()"
      ],
      "execution_count": null,
      "outputs": []
    },
    {
      "cell_type": "markdown",
      "metadata": {
        "id": "hiZXUMaOhMf9"
      },
      "source": [
        "### Clsuter the new data using regular k-Means and show the cluster borders"
      ]
    },
    {
      "cell_type": "code",
      "metadata": {
        "id": "7TnPcjnOK2Yn"
      },
      "source": [
        "# predict the clusters\n",
        "y_pred = kmeans.fit_predict(X)\n",
        "\n",
        "# plot the cluster boundaries \n",
        "plt.figure(figsize=(10, 6))\n",
        "plot_decision_boundaries(kmeans, X)\n",
        "plt.show()"
      ],
      "execution_count": null,
      "outputs": []
    },
    {
      "cell_type": "markdown",
      "metadata": {
        "id": "d1jovg1qhtNu"
      },
      "source": [
        "### Check the clusters' balance\n",
        "The clusters are changed. Let's look at the number of points in each cluster:"
      ]
    },
    {
      "cell_type": "code",
      "metadata": {
        "id": "TQWzeWzta6nR"
      },
      "source": [
        "np.unique(y_pred, return_counts=True)"
      ],
      "execution_count": null,
      "outputs": []
    },
    {
      "cell_type": "markdown",
      "metadata": {
        "id": "pzSvo0xTiE5Y"
      },
      "source": [
        "The numbers are not the same"
      ]
    },
    {
      "cell_type": "markdown",
      "metadata": {
        "id": "zDBYLJRnds8u"
      },
      "source": [
        "## Size Constrained K-Means\n",
        "Let's use a constrained k-Means that we can set min and max number of clients in each cluster. In this experiment, we will set them the same.\n",
        "\n",
        "\n",
        "## Installing the required library\n",
        "Let's start by installing the constrained k-Mean library."
      ]
    },
    {
      "cell_type": "code",
      "metadata": {
        "id": "n6fkKCKML-Mu"
      },
      "source": [
        "!pip install k-means-constrained"
      ],
      "execution_count": null,
      "outputs": []
    },
    {
      "cell_type": "markdown",
      "metadata": {
        "id": "iasDWBNdi9RR"
      },
      "source": [
        "## Predict the clusters with the size constrain"
      ]
    },
    {
      "cell_type": "code",
      "metadata": {
        "id": "ig334ogpOTGA"
      },
      "source": [
        "# Import constrained k-Means package\n",
        "from k_means_constrained import KMeansConstrained\n",
        "\n",
        "# Predict the new clusters\n",
        "kmeans = KMeansConstrained(n_clusters=k, size_min=2000, size_max=2000, random_state=0)\n",
        "y_pred = kmeans.fit_predict(X)"
      ],
      "execution_count": null,
      "outputs": []
    },
    {
      "cell_type": "code",
      "metadata": {
        "id": "_NiiclOCPaSN"
      },
      "source": [
        "# View the new cluster centers\n",
        "kmeans.cluster_centers_"
      ],
      "execution_count": null,
      "outputs": []
    },
    {
      "cell_type": "markdown",
      "metadata": {
        "id": "VRiaD--ijPhR"
      },
      "source": [
        "## Plot the clusters"
      ]
    },
    {
      "cell_type": "code",
      "metadata": {
        "id": "vzWC5tQoPfcA"
      },
      "source": [
        "# Import color map utility\n",
        "import matplotlib.cm as cm\n",
        "\n",
        "# plot the clusters with different colors\n",
        "colors = cm.viridis(np.linspace(0, 1, k))\n",
        "plt.figure(figsize=(10, 6))\n",
        "for cluster in range(k):\n",
        "  X_temp = X[y_pred == cluster]\n",
        "  plt.plot(X_temp[:, 0], X_temp[:, 1], 'o', color=colors[cluster], markersize=2)\n",
        "plot_centroids(kmeans.cluster_centers_)"
      ],
      "execution_count": null,
      "outputs": []
    },
    {
      "cell_type": "markdown",
      "metadata": {
        "id": "bOJ_k7InjfR7"
      },
      "source": [
        "Let's check if the clusters have equal number of clients"
      ]
    },
    {
      "cell_type": "code",
      "metadata": {
        "id": "qGtKKSuxQA-2"
      },
      "source": [
        "np.unique(y_pred, return_counts=True)"
      ],
      "execution_count": null,
      "outputs": []
    },
    {
      "cell_type": "markdown",
      "metadata": {
        "id": "r53G2ud_jr2k"
      },
      "source": [
        "They are all the same"
      ]
    },
    {
      "cell_type": "markdown",
      "metadata": {
        "id": "Grz46r-Zjvel"
      },
      "source": [
        "## Suggested improvement\n",
        "\n",
        "We were able to guarantee the equal number of clients assigned to each agent and as much as possible they are close to each other. Is it still fair? Is the distance traveled by each agent the same? What can we do to make it fair?"
      ]
    },
    {
      "cell_type": "markdown",
      "metadata": {
        "id": "K9v4Rkfpkkl7"
      },
      "source": [
        "# Contact Information\n",
        "\n",
        "Congratulations, you have completed the tutorial for Day 2 of the Vector Institute 'Intro to AI' program! Thank you for your time and attention.\n",
        "\n",
        "\n",
        "*   Instructor: Sayyed Nezhadi \n",
        "*   Program Director: Shingai Manjengwa \n",
        "*   Contact: learn@vectorinstitute.ai\n",
        "\n",
        "Never stop learning!"
      ]
    }
  ]
}