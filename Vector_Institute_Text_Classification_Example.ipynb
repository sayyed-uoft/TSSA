{
  "nbformat": 4,
  "nbformat_minor": 0,
  "metadata": {
    "colab": {
      "name": "Vector Institute - Text Classification Example.ipynb",
      "provenance": [],
      "collapsed_sections": [],
      "machine_shape": "hm",
      "include_colab_link": true
    },
    "kernelspec": {
      "name": "python3",
      "display_name": "Python 3"
    }
  },
  "cells": [
    {
      "cell_type": "markdown",
      "metadata": {
        "id": "view-in-github",
        "colab_type": "text"
      },
      "source": [
        "<a href=\"https://colab.research.google.com/github/sayyed-uoft/TSSA/blob/main/Vector_Institute_Text_Classification_Example.ipynb\" target=\"_parent\"><img src=\"https://colab.research.google.com/assets/colab-badge.svg\" alt=\"Open In Colab\"/></a>"
      ]
    },
    {
      "cell_type": "markdown",
      "metadata": {
        "id": "AVZSsLGuF_lh"
      },
      "source": [
        "# Vector Institute - TSSA Intro to AI \n",
        "\n",
        "### Thank you for joining Day 2 of the Vector Institute, 'Intro to AI' workshop series.\n",
        "\n",
        "If you have any questions or if you would like to learn more about this program, contact: learn@vectorinstitute.ai"
      ]
    },
    {
      "cell_type": "markdown",
      "metadata": {
        "id": "izA3-6kffbdT"
      },
      "source": [
        "# Case Study 2: Text Classification\n",
        "\n",
        "\n",
        "In this notebook, we will use pre-trained deep learning model to process some text. We will then use the output of that model to classify the text. The text is a list of narratives from consumer complaints. And we will calssify each narrative to one of the compalint classes.\n",
        "\n",
        "## Models: Consumer Complaint Classification\n",
        "Our goal is to create a model that takes the text of a compliant and produces the class code. \n",
        "\n",
        "Under the hood, the model is actually made up of two model.\n",
        "\n",
        "* DistilBERT processes the text and passes along some information it extracted from it on to the next model. DistilBERT is a smaller version of BERT developed and open sourced by the team at HuggingFace. It’s a lighter and faster version of BERT that roughly matches its performance.\n",
        "* The next model, a basic Logistic Regression model from scikit learn will take in the result of DistilBERT’s processing, and classify the text. We will train both binary and multi-class calssifiers and will explain the methods to evaluate the results..\n",
        "\n",
        "The data we pass between the two models is a vector of size 768. We can think of this of vector as an embedding for the sentence that we can use for classification.\n",
        "\n",
        "## Problem\n",
        "Each week the Consumer Financial Protection Bureau sends thousands of consumer’s complaints about financial product and services to company for a response. Classify those consumer complaints into the product category it belongs to using the description of the complaint.\n",
        "\n",
        "## Dataset\n",
        "The dataset is a small subset of data extracted from Data.gov website. We extracted only a very small part due to memory limitation of Google Colab.  The data is already clean. It is made of two columns:\n",
        "\n",
        "1. **Product:** the complaint class\n",
        "1. **Consumer complaint narrative:** the text of the complaint\n",
        "\n",
        "## Installing the transformers library\n",
        "Let's start by installing the huggingface transformers library so we can load our deep learning NLP model. Also, importing the required Python packages."
      ]
    },
    {
      "cell_type": "code",
      "metadata": {
        "id": "To9ENLU90WGl",
        "colab": {
          "base_uri": "https://localhost:8080/"
        },
        "outputId": "d6703d4f-7b5f-42b2-8b48-90a97cd668fd"
      },
      "source": [
        "!pip install transformers"
      ],
      "execution_count": 1,
      "outputs": [
        {
          "output_type": "stream",
          "text": [
            "Requirement already satisfied: transformers in /usr/local/lib/python3.7/dist-packages (4.5.1)\n",
            "Requirement already satisfied: packaging in /usr/local/lib/python3.7/dist-packages (from transformers) (20.9)\n",
            "Requirement already satisfied: tokenizers<0.11,>=0.10.1 in /usr/local/lib/python3.7/dist-packages (from transformers) (0.10.2)\n",
            "Requirement already satisfied: requests in /usr/local/lib/python3.7/dist-packages (from transformers) (2.23.0)\n",
            "Requirement already satisfied: numpy>=1.17 in /usr/local/lib/python3.7/dist-packages (from transformers) (1.19.5)\n",
            "Requirement already satisfied: filelock in /usr/local/lib/python3.7/dist-packages (from transformers) (3.0.12)\n",
            "Requirement already satisfied: sacremoses in /usr/local/lib/python3.7/dist-packages (from transformers) (0.0.45)\n",
            "Requirement already satisfied: tqdm>=4.27 in /usr/local/lib/python3.7/dist-packages (from transformers) (4.41.1)\n",
            "Requirement already satisfied: importlib-metadata; python_version < \"3.8\" in /usr/local/lib/python3.7/dist-packages (from transformers) (3.10.1)\n",
            "Requirement already satisfied: regex!=2019.12.17 in /usr/local/lib/python3.7/dist-packages (from transformers) (2019.12.20)\n",
            "Requirement already satisfied: pyparsing>=2.0.2 in /usr/local/lib/python3.7/dist-packages (from packaging->transformers) (2.4.7)\n",
            "Requirement already satisfied: idna<3,>=2.5 in /usr/local/lib/python3.7/dist-packages (from requests->transformers) (2.10)\n",
            "Requirement already satisfied: chardet<4,>=3.0.2 in /usr/local/lib/python3.7/dist-packages (from requests->transformers) (3.0.4)\n",
            "Requirement already satisfied: certifi>=2017.4.17 in /usr/local/lib/python3.7/dist-packages (from requests->transformers) (2020.12.5)\n",
            "Requirement already satisfied: urllib3!=1.25.0,!=1.25.1,<1.26,>=1.21.1 in /usr/local/lib/python3.7/dist-packages (from requests->transformers) (1.24.3)\n",
            "Requirement already satisfied: joblib in /usr/local/lib/python3.7/dist-packages (from sacremoses->transformers) (1.0.1)\n",
            "Requirement already satisfied: six in /usr/local/lib/python3.7/dist-packages (from sacremoses->transformers) (1.15.0)\n",
            "Requirement already satisfied: click in /usr/local/lib/python3.7/dist-packages (from sacremoses->transformers) (7.1.2)\n",
            "Requirement already satisfied: zipp>=0.5 in /usr/local/lib/python3.7/dist-packages (from importlib-metadata; python_version < \"3.8\"->transformers) (3.4.1)\n",
            "Requirement already satisfied: typing-extensions>=3.6.4; python_version < \"3.8\" in /usr/local/lib/python3.7/dist-packages (from importlib-metadata; python_version < \"3.8\"->transformers) (3.7.4.3)\n"
          ],
          "name": "stdout"
        }
      ]
    },
    {
      "cell_type": "code",
      "metadata": {
        "id": "fvFvBLJV0Dkv"
      },
      "source": [
        "import numpy as np\n",
        "import pandas as pd\n",
        "from sklearn.linear_model import LogisticRegression\n",
        "from sklearn.model_selection import cross_val_score, cross_val_predict\n",
        "from sklearn.metrics import confusion_matrix, plot_confusion_matrix\n",
        "import torch\n",
        "import transformers as ppb\n",
        "import warnings\n",
        "import matplotlib.pyplot as plt\n",
        "%matplotlib inline\n",
        "warnings.filterwarnings('ignore')"
      ],
      "execution_count": 43,
      "outputs": []
    },
    {
      "cell_type": "markdown",
      "metadata": {
        "id": "zQ-42fh0hjsF"
      },
      "source": [
        "## Importing the dataset\n",
        "We'll use pandas to read the dataset and load it into a dataframe."
      ]
    },
    {
      "cell_type": "code",
      "metadata": {
        "id": "cyoj29J24hPX"
      },
      "source": [
        "df = pd.read_csv('https://raw.githubusercontent.com/sayyed-uoft/TSSA/main/customer_complaints_samples.csv')"
      ],
      "execution_count": 71,
      "outputs": []
    },
    {
      "cell_type": "markdown",
      "metadata": {
        "id": "dMVE3waNhuNj"
      },
      "source": [
        "Let's look at the data"
      ]
    },
    {
      "cell_type": "code",
      "metadata": {
        "id": "gTM3hOHW4hUY",
        "colab": {
          "base_uri": "https://localhost:8080/",
          "height": 419
        },
        "outputId": "7908be3a-68fb-4e37-95ab-3b4d7b130c9d"
      },
      "source": [
        "df"
      ],
      "execution_count": 72,
      "outputs": [
        {
          "output_type": "execute_result",
          "data": {
            "text/html": [
              "<div>\n",
              "<style scoped>\n",
              "    .dataframe tbody tr th:only-of-type {\n",
              "        vertical-align: middle;\n",
              "    }\n",
              "\n",
              "    .dataframe tbody tr th {\n",
              "        vertical-align: top;\n",
              "    }\n",
              "\n",
              "    .dataframe thead th {\n",
              "        text-align: right;\n",
              "    }\n",
              "</style>\n",
              "<table border=\"1\" class=\"dataframe\">\n",
              "  <thead>\n",
              "    <tr style=\"text-align: right;\">\n",
              "      <th></th>\n",
              "      <th>Product</th>\n",
              "      <th>Consumer complaint narrative</th>\n",
              "    </tr>\n",
              "  </thead>\n",
              "  <tbody>\n",
              "    <tr>\n",
              "      <th>0</th>\n",
              "      <td>Credit reporting, credit repair services, or o...</td>\n",
              "      <td>XXXX is currently reporting incorrect informat...</td>\n",
              "    </tr>\n",
              "    <tr>\n",
              "      <th>1</th>\n",
              "      <td>Credit reporting, credit repair services, or o...</td>\n",
              "      <td>I Have Filed A Dispute In Regards To The Incor...</td>\n",
              "    </tr>\n",
              "    <tr>\n",
              "      <th>2</th>\n",
              "      <td>Credit reporting, credit repair services, or o...</td>\n",
              "      <td>I am requesting a method of verification of th...</td>\n",
              "    </tr>\n",
              "    <tr>\n",
              "      <th>3</th>\n",
              "      <td>Credit reporting, credit repair services, or o...</td>\n",
              "      <td>A Car dealer scammed a car in my name that I h...</td>\n",
              "    </tr>\n",
              "    <tr>\n",
              "      <th>4</th>\n",
              "      <td>Credit reporting, credit repair services, or o...</td>\n",
              "      <td>At this time, I respectfully request a copy of...</td>\n",
              "    </tr>\n",
              "    <tr>\n",
              "      <th>...</th>\n",
              "      <td>...</td>\n",
              "      <td>...</td>\n",
              "    </tr>\n",
              "    <tr>\n",
              "      <th>1332</th>\n",
              "      <td>Payday loan, title loan, or personal loan</td>\n",
              "      <td>On XX/XX/2021 I called to try and get in conta...</td>\n",
              "    </tr>\n",
              "    <tr>\n",
              "      <th>1333</th>\n",
              "      <td>Debt collection</td>\n",
              "      <td>Applying for a refinance and the title company...</td>\n",
              "    </tr>\n",
              "    <tr>\n",
              "      <th>1334</th>\n",
              "      <td>Credit reporting, credit repair services, or o...</td>\n",
              "      <td>I called XXXX to remove two inquiries off of m...</td>\n",
              "    </tr>\n",
              "    <tr>\n",
              "      <th>1335</th>\n",
              "      <td>Credit card or prepaid card</td>\n",
              "      <td>On XX/XX/XXXX my bill did not go through accou...</td>\n",
              "    </tr>\n",
              "    <tr>\n",
              "      <th>1336</th>\n",
              "      <td>Credit reporting, credit repair services, or o...</td>\n",
              "      <td>XXXX - REQUESTED PROOF OF VALIDATION OF ACCOUN...</td>\n",
              "    </tr>\n",
              "  </tbody>\n",
              "</table>\n",
              "<p>1337 rows × 2 columns</p>\n",
              "</div>"
            ],
            "text/plain": [
              "                                                Product                       Consumer complaint narrative\n",
              "0     Credit reporting, credit repair services, or o...  XXXX is currently reporting incorrect informat...\n",
              "1     Credit reporting, credit repair services, or o...  I Have Filed A Dispute In Regards To The Incor...\n",
              "2     Credit reporting, credit repair services, or o...  I am requesting a method of verification of th...\n",
              "3     Credit reporting, credit repair services, or o...  A Car dealer scammed a car in my name that I h...\n",
              "4     Credit reporting, credit repair services, or o...  At this time, I respectfully request a copy of...\n",
              "...                                                 ...                                                ...\n",
              "1332          Payday loan, title loan, or personal loan  On XX/XX/2021 I called to try and get in conta...\n",
              "1333                                    Debt collection  Applying for a refinance and the title company...\n",
              "1334  Credit reporting, credit repair services, or o...  I called XXXX to remove two inquiries off of m...\n",
              "1335                        Credit card or prepaid card  On XX/XX/XXXX my bill did not go through accou...\n",
              "1336  Credit reporting, credit repair services, or o...  XXXX - REQUESTED PROOF OF VALIDATION OF ACCOUN...\n",
              "\n",
              "[1337 rows x 2 columns]"
            ]
          },
          "metadata": {
            "tags": []
          },
          "execution_count": 72
        }
      ]
    },
    {
      "cell_type": "markdown",
      "metadata": {
        "id": "PRc2L89hh1Tf"
      },
      "source": [
        "Let's look at the distribution of the products (labels):"
      ]
    },
    {
      "cell_type": "code",
      "metadata": {
        "id": "jGvcfcCP5xpZ",
        "colab": {
          "base_uri": "https://localhost:8080/"
        },
        "outputId": "5ca9ce2a-32d8-42d0-fcac-552838f2fb20"
      },
      "source": [
        "df['Product'].value_counts()"
      ],
      "execution_count": 73,
      "outputs": [
        {
          "output_type": "execute_result",
          "data": {
            "text/plain": [
              "Credit reporting, credit repair services, or other personal consumer reports    934\n",
              "Debt collection                                                                 196\n",
              "Credit card or prepaid card                                                      75\n",
              "Mortgage                                                                         55\n",
              "Checking or savings account                                                      40\n",
              "Vehicle loan or lease                                                            18\n",
              "Payday loan, title loan, or personal loan                                         9\n",
              "Student loan                                                                      5\n",
              "Money transfer, virtual currency, or money service                                5\n",
              "Name: Product, dtype: int64"
            ]
          },
          "metadata": {
            "tags": []
          },
          "execution_count": 73
        }
      ]
    },
    {
      "cell_type": "code",
      "metadata": {
        "colab": {
          "base_uri": "https://localhost:8080/",
          "height": 629
        },
        "id": "b-jk7LO0fZ4l",
        "outputId": "5f6125a3-a2fa-4f5a-d8ca-f30fc2f0c5bb"
      },
      "source": [
        "df['Product'].value_counts().plot.bar()\n",
        "plt.show()"
      ],
      "execution_count": 75,
      "outputs": [
        {
          "output_type": "display_data",
          "data": {
            "image/png": "[encoded data removed]",
            "text/plain": [
              "<Figure size 432x288 with 1 Axes>"
            ]
          },
          "metadata": {
            "tags": [],
            "needs_background": "light"
          }
        }
      ]
    },
    {
      "cell_type": "markdown",
      "metadata": {
        "id": "7_MO08_KiAOb"
      },
      "source": [
        "## Loading the Pre-trained BERT model\n",
        "Let's now load a pre-trained BERT model. "
      ]
    },
    {
      "cell_type": "code",
      "metadata": {
        "id": "q1InADgf5xm2"
      },
      "source": [
        "# For DistilBERT:\n",
        "model_class, tokenizer_class, pretrained_weights = (ppb.DistilBertModel, ppb.DistilBertTokenizer, 'distilbert-base-uncased')\n",
        "\n",
        "# Load pretrained model/tokenizer\n",
        "tokenizer = tokenizer_class.from_pretrained(pretrained_weights)\n",
        "model = model_class.from_pretrained(pretrained_weights)"
      ],
      "execution_count": 76,
      "outputs": []
    },
    {
      "cell_type": "markdown",
      "metadata": {
        "id": "lZDBMn3wiSX6"
      },
      "source": [
        "Right now, the variable `model` holds a pretrained distilBERT model -- a version of BERT that is smaller, but much faster and requiring a lot less memory.\n",
        "\n",
        "## Preparing the Dataset\n",
        "Before we can hand our narratives to BERT, we need to do some minimal processing to put them in the format it requires.\n",
        "\n",
        "### Tokenization\n",
        "Our first step is to tokenize the narratives -- break them up into word and subwords in the format BERT is comfortable with. The model accepts obly 512 tockens. So, we truncate longer messages."
      ]
    },
    {
      "cell_type": "code",
      "metadata": {
        "id": "Dg82ndBA5xlN"
      },
      "source": [
        "# Tokenize the narratives\n",
        "tokenized = df['Consumer complaint narrative'].apply((lambda x: tokenizer.encode(x, add_special_tokens=True, truncation=True)))"
      ],
      "execution_count": 77,
      "outputs": []
    },
    {
      "cell_type": "code",
      "metadata": {
        "colab": {
          "base_uri": "https://localhost:8080/"
        },
        "id": "CqYGumGIkO56",
        "outputId": "122a8a74-3d50-4340-f83b-99e18d426367"
      },
      "source": [
        "# view a few tockenized samples\n",
        "tokenized.head()"
      ],
      "execution_count": 78,
      "outputs": [
        {
          "output_type": "execute_result",
          "data": {
            "text/plain": [
              "0    [101, 22038, 20348, 2003, 2747, 7316, 16542, 2...\n",
              "1    [101, 1045, 2031, 6406, 1037, 7593, 1999, 1236...\n",
              "2    [101, 1045, 2572, 17942, 1037, 4118, 1997, 226...\n",
              "3    [101, 1037, 2482, 11033, 8040, 27479, 1037, 24...\n",
              "4    [101, 2012, 2023, 2051, 1010, 1045, 26438, 213...\n",
              "Name: Consumer complaint narrative, dtype: object"
            ]
          },
          "metadata": {
            "tags": []
          },
          "execution_count": 78
        }
      ]
    },
    {
      "cell_type": "markdown",
      "metadata": {
        "id": "mHwjUwYgi-uL"
      },
      "source": [
        "\n",
        "### Padding\n",
        "After tokenization, `tokenized` is a list of narratives -- each narrative is represented as a list of tokens. We want BERT to process our examples all at once (as one batch). It's just faster that way. For that reason, we need to pad all lists to the same size, so we can represent the input as one 2-d array, rather than a list of lists (of different lengths)."
      ]
    },
    {
      "cell_type": "code",
      "metadata": {
        "id": "URn-DWJt5xhP"
      },
      "source": [
        "max_len = 0\n",
        "for i in tokenized.values:\n",
        "    if len(i) > max_len:\n",
        "        max_len = len(i)\n",
        "\n",
        "padded = np.array([i + [0]*(max_len-len(i)) for i in tokenized.values])"
      ],
      "execution_count": 12,
      "outputs": []
    },
    {
      "cell_type": "markdown",
      "metadata": {
        "id": "Mdjg306wjjmL"
      },
      "source": [
        "Our dataset is now in the `padded` variable, we can view its dimensions below:"
      ]
    },
    {
      "cell_type": "code",
      "metadata": {
        "id": "jdi7uXo95xeq",
        "colab": {
          "base_uri": "https://localhost:8080/"
        },
        "outputId": "5c3cb892-08bb-4526-bf6d-81a9db1b077c"
      },
      "source": [
        "np.array(padded).shape"
      ],
      "execution_count": 13,
      "outputs": [
        {
          "output_type": "execute_result",
          "data": {
            "text/plain": [
              "(1337, 222)"
            ]
          },
          "metadata": {
            "tags": []
          },
          "execution_count": 13
        }
      ]
    },
    {
      "cell_type": "markdown",
      "metadata": {
        "id": "sDZBsYSDjzDV"
      },
      "source": [
        "### Masking\n",
        "If we directly send `padded` to BERT, that would slightly confuse it. We need to create another variable to tell it to ignore (mask) the padding we've added when it's processing its input. That's what attention_mask is:"
      ]
    },
    {
      "cell_type": "code",
      "metadata": {
        "id": "4K_iGRNa_Ozc",
        "colab": {
          "base_uri": "https://localhost:8080/"
        },
        "outputId": "ca6dd3d2-ac58-469b-e4db-30cc6927b48f"
      },
      "source": [
        "attention_mask = np.where(padded != 0, 1, 0)\n",
        "attention_mask.shape"
      ],
      "execution_count": 14,
      "outputs": [
        {
          "output_type": "execute_result",
          "data": {
            "text/plain": [
              "(1337, 222)"
            ]
          },
          "metadata": {
            "tags": []
          },
          "execution_count": 14
        }
      ]
    },
    {
      "cell_type": "markdown",
      "metadata": {
        "id": "jK-CQB9-kN99"
      },
      "source": [
        "## Narrative Embeddings\n",
        "Now that we have our model and inputs ready, let's run our model!\n",
        "\n",
        "The `model()` function runs our narratives through BERT. The results of the processing will be returned into `last_hidden_states`."
      ]
    },
    {
      "cell_type": "code",
      "metadata": {
        "id": "39UVjAV56PJz"
      },
      "source": [
        "input_ids = torch.tensor(padded)  \n",
        "attention_mask = torch.tensor(attention_mask)\n",
        "\n",
        "with torch.no_grad():\n",
        "    last_hidden_states = model(input_ids, attention_mask=attention_mask)"
      ],
      "execution_count": 15,
      "outputs": []
    },
    {
      "cell_type": "markdown",
      "metadata": {
        "id": "FoCep_WVuB3v"
      },
      "source": [
        "Let's slice only the part of the output that we need. That is the output corresponding the first token of each sentence. The way BERT does sentence classification, is that it adds a token called `[CLS]` (for classification) at the beginning of every sentence. The output corresponding to that token can be thought of as an embedding for the entire sentence.\n",
        "\n",
        "We'll save those in the `features` variable, as they'll serve as the features to our logitics regression model."
      ]
    },
    {
      "cell_type": "code",
      "metadata": {
        "id": "C9t60At16PVs"
      },
      "source": [
        "features = last_hidden_states[0][:,0,:].numpy()"
      ],
      "execution_count": 16,
      "outputs": []
    },
    {
      "cell_type": "markdown",
      "metadata": {
        "id": "EJhSb5RLNOF4"
      },
      "source": [
        "## Classification\n",
        "\n",
        "The last step is to use the narrative representations as the input of a simple linear classification model. For the output we will use the index of the associated categories.\n",
        "\n",
        "We will train two models:\n",
        "1. Binary classification (if the complaint’s type is ‘Credit reporting, credit repair services, or other personal consumer reports’)\n",
        "1. Multi-class classification\n"
      ]
    },
    {
      "cell_type": "markdown",
      "metadata": {
        "id": "61I2QBXPOMIJ"
      },
      "source": [
        "## Binary Classification"
      ]
    },
    {
      "cell_type": "markdown",
      "metadata": {
        "id": "_VZVU66Gurr-"
      },
      "source": [
        "The labels indicating which sentence is positive and negative now go into the `labels` variable"
      ]
    },
    {
      "cell_type": "code",
      "metadata": {
        "id": "JD3fX2yh6PTx",
        "colab": {
          "base_uri": "https://localhost:8080/"
        },
        "outputId": "d1055a2f-b05f-4b0d-e7cb-979ab169ef4a"
      },
      "source": [
        "labels = df['Product'] == 'Credit reporting, credit repair services, or other personal consumer reports'\n",
        "labels"
      ],
      "execution_count": 53,
      "outputs": [
        {
          "output_type": "execute_result",
          "data": {
            "text/plain": [
              "0        True\n",
              "1        True\n",
              "2        True\n",
              "3        True\n",
              "4        True\n",
              "        ...  \n",
              "1332    False\n",
              "1333    False\n",
              "1334     True\n",
              "1335    False\n",
              "1336     True\n",
              "Name: Product, Length: 1337, dtype: bool"
            ]
          },
          "metadata": {
            "tags": []
          },
          "execution_count": 53
        }
      ]
    },
    {
      "cell_type": "code",
      "metadata": {
        "colab": {
          "base_uri": "https://localhost:8080/",
          "height": 281
        },
        "id": "ON6J_hzv2qbp",
        "outputId": "8640d0e9-a609-4cc6-ccbf-cff88cc6eef5"
      },
      "source": [
        "labels.value_counts().plot.bar()\n",
        "plt.show()"
      ],
      "execution_count": 84,
      "outputs": [
        {
          "output_type": "display_data",
          "data": {
            "image/png": "[encoded data removed]",
            "text/plain": [
              "<Figure size 432x288 with 1 Axes>"
            ]
          },
          "metadata": {
            "tags": [],
            "needs_background": "light"
          }
        }
      ]
    },
    {
      "cell_type": "markdown",
      "metadata": {
        "id": "iaoEvM2evRx1"
      },
      "source": [
        "### Model Trainingn and Validation\n",
        "We now train and validate a LogisticRegression model. We will use \"coss_val_scores\" to perform a 5-fold cross validation and we choose \"accuracy\" as the score."
      ]
    },
    {
      "cell_type": "code",
      "metadata": {
        "id": "gG-EVWx4CzBc",
        "colab": {
          "base_uri": "https://localhost:8080/"
        },
        "outputId": "fe883abb-557c-4bb3-a28d-bed52b34843b"
      },
      "source": [
        "lr_clf = LogisticRegression()\n",
        "scores = cross_val_score(lr_clf, features, labels, scoring='accuracy', cv=5)\n",
        "print(\"Score is {:.2f} +- {:.2f}\".format(scores.mean(), 2*scores.std()))"
      ],
      "execution_count": 88,
      "outputs": [
        {
          "output_type": "stream",
          "text": [
            "Score is 0.84 +- 0.07\n"
          ],
          "name": "stdout"
        }
      ]
    },
    {
      "cell_type": "markdown",
      "metadata": {
        "id": "75oyhr3VxHoE"
      },
      "source": [
        "How good is this score? What can we compare it against? Let's first look at a dummy classifier. A dummy classifieris a classifier that makes predictions using simple rules. By dedfault, always predicts the class that maximizes the class prior."
      ]
    },
    {
      "cell_type": "code",
      "metadata": {
        "id": "lnwgmqNG7i5l",
        "colab": {
          "base_uri": "https://localhost:8080/"
        },
        "outputId": "eb14fc24-4bce-4192-b024-c56e7c4d0b22"
      },
      "source": [
        "from sklearn.dummy import DummyClassifier\n",
        "clf = DummyClassifier()\n",
        "\n",
        "scores = cross_val_score(clf, features, labels)\n",
        "print(\"Score is {:.2f} +- {:.2f}\".format(scores.mean(), 2*scores.std()))"
      ],
      "execution_count": 89,
      "outputs": [
        {
          "output_type": "stream",
          "text": [
            "Score is 0.58 +- 0.06\n"
          ],
          "name": "stdout"
        }
      ]
    },
    {
      "cell_type": "markdown",
      "metadata": {
        "id": "7Lg4LOpoxSOR"
      },
      "source": [
        "So our model clearly does better than a dummy classifier. But, the data is not balanced and accuracy is not a good score. We should use confusion matrix to analyze the results and use the combination of precision and recall scores.\n"
      ]
    },
    {
      "cell_type": "code",
      "metadata": {
        "colab": {
          "base_uri": "https://localhost:8080/"
        },
        "id": "gYeCQxV1JzxW",
        "outputId": "21061759-4c8f-4440-d7b5-b909432bc315"
      },
      "source": [
        "# Calculate and print confusion matrix\n",
        "pred = cross_val_predict(lr_clf, features, labels, cv=5)\n",
        "conf_mx = confusion_matrix(labels, pred)\n",
        "conf_mx"
      ],
      "execution_count": 90,
      "outputs": [
        {
          "output_type": "execute_result",
          "data": {
            "text/plain": [
              "array([[267, 136],\n",
              "       [ 78, 856]])"
            ]
          },
          "metadata": {
            "tags": []
          },
          "execution_count": 90
        }
      ]
    },
    {
      "cell_type": "code",
      "metadata": {
        "id": "EJQuqV6cnWQu",
        "colab": {
          "base_uri": "https://localhost:8080/"
        },
        "outputId": "e3984439-781c-409d-a2d9-c1752254b199"
      },
      "source": [
        "# Calculate recall scores\n",
        "scores = cross_val_score(lr_clf, features, labels, scoring='recall', cv=5)\n",
        "print(\"Score is {:.2f} +- {:.2f}\".format(scores.mean(), 2*scores.std()))"
      ],
      "execution_count": 91,
      "outputs": [
        {
          "output_type": "stream",
          "text": [
            "Score is 0.92 +- 0.03\n"
          ],
          "name": "stdout"
        }
      ]
    },
    {
      "cell_type": "code",
      "metadata": {
        "colab": {
          "base_uri": "https://localhost:8080/"
        },
        "id": "EZapntsnBTS9",
        "outputId": "0bcf9d3c-7020-4bcf-95b8-4a74a0a33e73"
      },
      "source": [
        "# Calculate precision scores\n",
        "scores = cross_val_score(lr_clf, features, labels, scoring='precision', cv=5)\n",
        "print(\"Score is {:.2f} +- {:.2f}\".format(scores.mean(), 2*scores.std()))"
      ],
      "execution_count": 93,
      "outputs": [
        {
          "output_type": "stream",
          "text": [
            "Score is 0.86 +- 0.07\n"
          ],
          "name": "stdout"
        }
      ]
    },
    {
      "cell_type": "markdown",
      "metadata": {
        "id": "jI9RGn3jR5tp"
      },
      "source": [
        "## Multi-class Classification"
      ]
    },
    {
      "cell_type": "code",
      "metadata": {
        "id": "Oj9CmEgtB0F5"
      },
      "source": [
        "# convert classes to class numbers\n",
        "factorized = df['Product'].factorize()\n",
        "labels_multi = factorized[0]\n",
        "labels_text = factorized[1]"
      ],
      "execution_count": 95,
      "outputs": []
    },
    {
      "cell_type": "code",
      "metadata": {
        "colab": {
          "base_uri": "https://localhost:8080/"
        },
        "id": "9WU2ylNOC5lF",
        "outputId": "abcbb555-5951-44f6-ecff-cf2ad777acb6"
      },
      "source": [
        "# Calculate accuracy scores\n",
        "scores = cross_val_score(lr_clf, features, labels_multi, scoring='accuracy', cv=5)\n",
        "print(\"Score is {:.2f} +- {:.2f}\".format(scores.mean(), 2*scores.std()))"
      ],
      "execution_count": 96,
      "outputs": [
        {
          "output_type": "stream",
          "text": [
            "Score is 0.77 +- 0.05\n"
          ],
          "name": "stdout"
        }
      ]
    },
    {
      "cell_type": "code",
      "metadata": {
        "colab": {
          "base_uri": "https://localhost:8080/"
        },
        "id": "fStLliwDDApC",
        "outputId": "ddbc6da8-a547-4a29-add2-44126f174ed4"
      },
      "source": [
        "# Calculate accuracy scores (Dummy Classifier)\n",
        "scores = cross_val_score(clf, features, labels_multi)\n",
        "scores"
      ],
      "execution_count": 97,
      "outputs": [
        {
          "output_type": "execute_result",
          "data": {
            "text/plain": [
              "array([0.52238806, 0.52985075, 0.49438202, 0.55805243, 0.48314607])"
            ]
          },
          "metadata": {
            "tags": []
          },
          "execution_count": 97
        }
      ]
    },
    {
      "cell_type": "code",
      "metadata": {
        "id": "X0y38_3LDGLD"
      },
      "source": [
        "# Claculate and print confusion matrix\n",
        "pred = cross_val_predict(lr_clf, features, labels_multi, cv=5)"
      ],
      "execution_count": 98,
      "outputs": []
    },
    {
      "cell_type": "code",
      "metadata": {
        "colab": {
          "base_uri": "https://localhost:8080/"
        },
        "id": "DThn9YVEDqRI",
        "outputId": "82b215c5-b6a1-41de-ea54-a8571a33fbe0"
      },
      "source": [
        "conf_mx = confusion_matrix(labels_multi, pred)\n",
        "conf_mx"
      ],
      "execution_count": 99,
      "outputs": [
        {
          "output_type": "execute_result",
          "data": {
            "text/plain": [
              "array([[878,  39,   0,   7,  10,   0,   0,   0,   0],\n",
              "       [ 95,  91,   0,   3,   6,   1,   0,   0,   0],\n",
              "       [  4,   2,   0,   2,   1,   0,   0,   0,   0],\n",
              "       [ 17,   8,   1,  26,   3,   0,   0,   0,   0],\n",
              "       [ 27,  13,   0,   2,  28,   5,   0,   0,   0],\n",
              "       [ 17,   5,   1,   2,   6,   9,   0,   0,   0],\n",
              "       [  0,   2,   0,   0,   2,   1,   0,   0,   0],\n",
              "       [  7,   4,   0,   3,   2,   0,   0,   2,   0],\n",
              "       [  4,   0,   0,   1,   0,   0,   0,   0,   0]])"
            ]
          },
          "metadata": {
            "tags": []
          },
          "execution_count": 99
        }
      ]
    },
    {
      "cell_type": "code",
      "metadata": {
        "colab": {
          "base_uri": "https://localhost:8080/",
          "height": 639
        },
        "id": "y2p9FVHmEIMb",
        "outputId": "a483b755-f006-42bb-e93c-d2b937ffe379"
      },
      "source": [
        "# Plot the multi-clkass confusion matrix.\n",
        "row_sums = conf_mx.sum(axis=1, keepdims=True)\n",
        "norm_conf_mx = conf_mx / row_sums\n",
        "np.fill_diagonal(norm_conf_mx, 0)\n",
        "plt.matshow(norm_conf_mx, cmap=plt.cm.gray)\n",
        "plt.xticks(range(9), labels_text, rotation=90)\n",
        "plt.yticks(range(9), labels_text)\n",
        "plt.show()"
      ],
      "execution_count": 65,
      "outputs": [
        {
          "output_type": "display_data",
          "data": {
            "image/png": "[encoded data removed]",
            "text/plain": [
              "<Figure size 288x288 with 1 Axes>"
            ]
          },
          "metadata": {
            "tags": [],
            "needs_background": "light"
          }
        }
      ]
    },
    {
      "cell_type": "markdown",
      "metadata": {
        "id": "BA5HGh0rSoKB"
      },
      "source": [
        "Try to interpret the confusion matrix."
      ]
    },
    {
      "cell_type": "markdown",
      "metadata": {
        "id": "2zEYWo3eTpKH"
      },
      "source": [
        "# Contact Information\n",
        "\n",
        "Congratulations, you have completed the tutorial for Day 2 of the Vector Institute 'Intro to AI' program! Thank you for your time and attention.\n",
        "\n",
        "\n",
        "*   Instructor: Sayyed Nezhadi \n",
        "*   Program Director: Shingai Manjengwa \n",
        "*   Contact: learn@vectorinstitute.ai\n",
        "\n",
        "Never stop learning!"
      ]
    },
    {
      "cell_type": "code",
      "metadata": {
        "id": "UklyutjeTpuC"
      },
      "source": [
        ""
      ],
      "execution_count": null,
      "outputs": []
    }
  ]
}